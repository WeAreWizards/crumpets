{
 "metadata": {
  "name": "",
  "signature": "sha256:0a1a8dd75f7108320e194d449b8f953f658e47a6372d6a690007d9e775dea661"
 },
 "nbformat": 3,
 "nbformat_minor": 0,
 "worksheets": [
  {
   "cells": [
    {
     "cell_type": "markdown",
     "metadata": {},
     "source": [
      "# Mortgage repayment model\n",
      "\n",
      "The standard UK model seems to by a hybrid adjustable rate mortgage (hybrid ARM). There's a fixed, low percentage period at the beginning followed by a an ARM.\n",
      "\n",
      "When the fixed rate has run out the ARM is calculated for the remaining principal (money to pay)."
     ]
    },
    {
     "cell_type": "code",
     "collapsed": false,
     "input": [
      "def monthly_rate(principal, r, t):\n",
      "    return principal * r * (r+1)**t / ((r+1)**t - 1)\n",
      "\n",
      "def principal_left(principal, r, A, t):\n",
      "    return principal * (1+r)**t - sum(A * (1+r)**x for x in range(t))"
     ],
     "language": "python",
     "metadata": {},
     "outputs": [],
     "prompt_number": 4
    },
    {
     "cell_type": "code",
     "collapsed": false,
     "input": [
      "def progression(principal, fixed_years, initial_rate, followup_rate, total_duration_month):\n",
      "    A_initial = monthly_rate(principal, initial_rate, total_duration_month)\n",
      "    left = principal_left(principal, initial_rate, A_initial, fixed_years)\n",
      "    A_followup = monthly_rate(left, followup_rate, total_duration_month - fixed_years)\n",
      "    return A_initial, A_followup"
     ],
     "language": "python",
     "metadata": {},
     "outputs": [],
     "prompt_number": 12
    },
    {
     "cell_type": "code",
     "collapsed": false,
     "input": [
      "A_initial, A_followup = progression(250000, 5, 0.04/12, 0.06/12, 25 * 12)\n",
      "print \"You will pay {:.0f} pounds for 5 years and {:.0f} pounds for 20 years\".format(A_initial, A_followup)"
     ],
     "language": "python",
     "metadata": {},
     "outputs": [
      {
       "output_type": "stream",
       "stream": "stdout",
       "text": [
        "You will pay 1320 pounds for 5 years and 1607 pounds for 20 years\n"
       ]
      }
     ],
     "prompt_number": 21
    },
    {
     "cell_type": "code",
     "collapsed": false,
     "input": [],
     "language": "python",
     "metadata": {},
     "outputs": []
    }
   ],
   "metadata": {}
  }
 ]
}